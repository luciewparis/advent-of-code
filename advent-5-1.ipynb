{
 "cells": [
  {
   "cell_type": "code",
   "execution_count": 6,
   "metadata": {},
   "outputs": [
    {
     "data": {
      "text/plain": [
       "(197, '27,51,67,91,42,86,58,66,39,72,96', 1176, '96|15')"
      ]
     },
     "execution_count": 6,
     "metadata": {},
     "output_type": "execute_result"
    }
   ],
   "source": [
    "# 0. Start by retrieving input\n",
    "\n",
    "with open('advent-5-0-rules.txt') as f:\n",
    "    rules = f.read().splitlines()\n",
    "\n",
    "with open('advent-5-0-pages.txt') as f:\n",
    "    pages = f.read().splitlines()\n",
    "\n",
    "len(pages), pages[0], len(rules), rules[0]"
   ]
  }
 ],
 "metadata": {
  "kernelspec": {
   "display_name": "Artefact",
   "language": "python",
   "name": "python3"
  },
  "language_info": {
   "codemirror_mode": {
    "name": "ipython",
    "version": 3
   },
   "file_extension": ".py",
   "mimetype": "text/x-python",
   "name": "python",
   "nbconvert_exporter": "python",
   "pygments_lexer": "ipython3",
   "version": "3.10.12"
  }
 },
 "nbformat": 4,
 "nbformat_minor": 2
}
