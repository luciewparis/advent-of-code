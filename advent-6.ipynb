{
 "cells": [
  {
   "cell_type": "markdown",
   "metadata": {},
   "source": [
    "### 0. Start by retrieving input & formatting it into a nparray"
   ]
  },
  {
   "cell_type": "code",
   "execution_count": 2,
   "metadata": {},
   "outputs": [
    {
     "data": {
      "text/plain": [
       "['....#.....',\n",
       " '.........#',\n",
       " '..........',\n",
       " '..#.......',\n",
       " '.......#..',\n",
       " '..........',\n",
       " '.#..^.....',\n",
       " '........#.',\n",
       " '#.........',\n",
       " '......#...']"
      ]
     },
     "execution_count": 2,
     "metadata": {},
     "output_type": "execute_result"
    }
   ],
   "source": [
    "with open('advent-6-0-input.txt') as f:\n",
    "    map = f.read().splitlines()\n",
    "\n",
    "with open('advent-6-0-inputex.txt') as f:\n",
    "    ex = f.read().splitlines()\n",
    "\n",
    "ex"
   ]
  },
  {
   "cell_type": "code",
   "execution_count": 3,
   "metadata": {},
   "outputs": [
    {
     "data": {
      "text/plain": [
       "[['.', '.', '.', '.', '#', '.', '.', '.', '.', '.'],\n",
       " ['.', '.', '.', '.', '.', '.', '.', '.', '.', '#'],\n",
       " ['.', '.', '.', '.', '.', '.', '.', '.', '.', '.'],\n",
       " ['.', '.', '#', '.', '.', '.', '.', '.', '.', '.'],\n",
       " ['.', '.', '.', '.', '.', '.', '.', '#', '.', '.'],\n",
       " ['.', '.', '.', '.', '.', '.', '.', '.', '.', '.'],\n",
       " ['.', '#', '.', '.', '^', '.', '.', '.', '.', '.'],\n",
       " ['.', '.', '.', '.', '.', '.', '.', '.', '#', '.'],\n",
       " ['#', '.', '.', '.', '.', '.', '.', '.', '.', '.'],\n",
       " ['.', '.', '.', '.', '.', '.', '#', '.', '.', '.']]"
      ]
     },
     "execution_count": 3,
     "metadata": {},
     "output_type": "execute_result"
    }
   ],
   "source": [
    "# convert sequence of symbols into a list\n",
    "def separate_symbol(liste):\n",
    "    list_ = []\n",
    "    for i in range(len(liste)):\n",
    "        line = list(liste[i])\n",
    "        list_.append(line)\n",
    "    return list_\n",
    "\n",
    "separate_symbol(ex)"
   ]
  },
  {
   "cell_type": "code",
   "execution_count": 4,
   "metadata": {},
   "outputs": [],
   "source": [
    "split_ex = separate_symbol(ex)\n",
    "split_map = separate_symbol(map)"
   ]
  },
  {
   "cell_type": "code",
   "execution_count": 5,
   "metadata": {},
   "outputs": [
    {
     "data": {
      "text/plain": [
       "(array([['.', '.', '.', '.', '#', '.', '.', '.', '.', '.'],\n",
       "        ['.', '.', '.', '.', '.', '.', '.', '.', '.', '#'],\n",
       "        ['.', '.', '.', '.', '.', '.', '.', '.', '.', '.'],\n",
       "        ['.', '.', '#', '.', '.', '.', '.', '.', '.', '.'],\n",
       "        ['.', '.', '.', '.', '.', '.', '.', '#', '.', '.'],\n",
       "        ['.', '.', '.', '.', '.', '.', '.', '.', '.', '.'],\n",
       "        ['.', '#', '.', '.', '^', '.', '.', '.', '.', '.'],\n",
       "        ['.', '.', '.', '.', '.', '.', '.', '.', '#', '.'],\n",
       "        ['#', '.', '.', '.', '.', '.', '.', '.', '.', '.'],\n",
       "        ['.', '.', '.', '.', '.', '.', '#', '.', '.', '.']], dtype='<U1'),\n",
       " 2)"
      ]
     },
     "execution_count": 5,
     "metadata": {},
     "output_type": "execute_result"
    }
   ],
   "source": [
    "# Convert data to a matrix (np.array of dim 2)\n",
    "import numpy as np\n",
    "\n",
    "np_ex = np.array(split_ex)\n",
    "np_ex, np_ex.ndim"
   ]
  },
  {
   "cell_type": "code",
   "execution_count": 6,
   "metadata": {},
   "outputs": [
    {
     "data": {
      "text/plain": [
       "(130, 130)"
      ]
     },
     "execution_count": 6,
     "metadata": {},
     "output_type": "execute_result"
    }
   ],
   "source": [
    "np_map = np.array(split_map)\n",
    "np_map.shape"
   ]
  },
  {
   "cell_type": "markdown",
   "metadata": {},
   "source": [
    "### 1. Get positions"
   ]
  },
  {
   "cell_type": "code",
   "execution_count": 7,
   "metadata": {},
   "outputs": [
    {
     "data": {
      "text/plain": [
       "([(6, 4)], [(0, 4), (1, 9), (3, 2), (4, 7), (6, 1), (7, 8), (8, 0), (9, 6)])"
      ]
     },
     "execution_count": 7,
     "metadata": {},
     "output_type": "execute_result"
    }
   ],
   "source": [
    "# Find where the guard and obstacles are\n",
    "def get_coord(np_, str_):\n",
    "    x, y = np.where(np_ == str_)\n",
    "    return list(zip(x,y))\n",
    "\n",
    "get_coord(np_ex,'^'), get_coord(np_ex,'#')"
   ]
  },
  {
   "cell_type": "code",
   "execution_count": 8,
   "metadata": {},
   "outputs": [],
   "source": [
    "obstacles_ex = get_coord(np_ex,'#')\n",
    "obstacles = get_coord(np_map,'#')"
   ]
  },
  {
   "cell_type": "code",
   "execution_count": 9,
   "metadata": {},
   "outputs": [
    {
     "data": {
      "text/plain": [
       "array(['.', '#', '.', '.', '^', '.', '.', '.', '.', '.'], dtype='<U1')"
      ]
     },
     "execution_count": 9,
     "metadata": {},
     "output_type": "execute_result"
    }
   ],
   "source": [
    "np_ex[6,:] # sanity check -> 1st argument is the n-th LINE (and not column)"
   ]
  },
  {
   "cell_type": "code",
   "execution_count": 10,
   "metadata": {},
   "outputs": [
    {
     "data": {
      "text/plain": [
       "(0, numpy.int64)"
      ]
     },
     "execution_count": 10,
     "metadata": {},
     "output_type": "execute_result"
    }
   ],
   "source": [
    "np.where(np_ex[8,:] == '#')[0][0], type(np.where(np_ex[6,:] == '#')[0][0]) # where: returns position of found elements"
   ]
  },
  {
   "cell_type": "code",
   "execution_count": 11,
   "metadata": {},
   "outputs": [
    {
     "data": {
      "text/plain": [
       "8"
      ]
     },
     "execution_count": 11,
     "metadata": {},
     "output_type": "execute_result"
    }
   ],
   "source": [
    "len(np.where(np_ex[6,:] == '.')[0]) # returns nb of occurrences found"
   ]
  },
  {
   "cell_type": "code",
   "execution_count": 12,
   "metadata": {},
   "outputs": [
    {
     "data": {
      "text/plain": [
       "((array([0, 1, 2, 3, 4, 5, 6, 7, 8, 9]),), (array([0]),))"
      ]
     },
     "execution_count": 12,
     "metadata": {},
     "output_type": "execute_result"
    }
   ],
   "source": [
    "def get_all_pos(np_): # to be used in below function ?? We will use for now just a count instead of retrieving coordinates\n",
    "    x = np.where(np_ != \" \")\n",
    "    return x\n",
    "\n",
    "get_all_pos(np_ex[6,:]), get_all_pos(np_ex[:1,0]) # same output whether np in input is by row or column"
   ]
  },
  {
   "cell_type": "code",
   "execution_count": 22,
   "metadata": {},
   "outputs": [
    {
     "name": "stdout",
     "output_type": "stream",
     "text": [
      "UP - guard at (6, 4) VS obstacle at (0, 4) (index = 0)\n",
      "UP else\n",
      "UP out of if from direction = up\n",
      "to right\n",
      "RIGHT - guard at (1, 4) VS obstacle at (1, 9) (index = 5)\n",
      "DOWN - guard at (1, 8) VS obstacle at (7, 8) (index = 6)\n",
      "LEFT - guard at (6, 8) VS obstacle at (6, 1) (index = 1)\n",
      "UP - guard at (6, 2) VS obstacle at (3, 2) (index = 3)\n",
      "UP else\n",
      "UP out of if from direction = up\n",
      "to right\n",
      "RIGHT - guard at (4, 2) VS obstacle at (4, 7) (index = 5)\n",
      "DOWN - guard at (4, 6) VS obstacle at (9, 6) (index = 5)\n",
      "LEFT - guard at (8, 6) VS obstacle at (8, 0) (index = 0)\n",
      "UP - guard at (8, 1) VS obstacle at (6, 1) (index = 6)\n",
      "UP else\n",
      "UP out of if from direction = up\n",
      "to right\n",
      "RIGHT - guard at (7, 1) VS obstacle at (7, 8) (index = 7)\n"
     ]
    },
    {
     "ename": "IndexError",
     "evalue": "index 0 is out of bounds for axis 0 with size 0",
     "output_type": "error",
     "traceback": [
      "\u001b[0;31m---------------------------------------------------------------------------\u001b[0m",
      "\u001b[0;31mIndexError\u001b[0m                                Traceback (most recent call last)",
      "Cell \u001b[0;32mIn [22], line 91\u001b[0m\n\u001b[1;32m     87\u001b[0m     \u001b[38;5;28;01mreturn\u001b[39;00m count_positions, i\n\u001b[1;32m     88\u001b[0m     \u001b[38;5;66;03m# print(list_)\u001b[39;00m\n\u001b[1;32m     89\u001b[0m     \u001b[38;5;66;03m# return len(set(list_)) # we use set() to remove duplicates if any\u001b[39;00m\n\u001b[0;32m---> 91\u001b[0m \u001b[43mget_positions\u001b[49m\u001b[43m(\u001b[49m\u001b[43mnp_ex\u001b[49m\u001b[43m)\u001b[49m\n",
      "Cell \u001b[0;32mIn [22], line 53\u001b[0m, in \u001b[0;36mget_positions\u001b[0;34m(np_)\u001b[0m\n\u001b[1;32m     50\u001b[0m     direction \u001b[38;5;241m=\u001b[39m \u001b[38;5;124m'\u001b[39m\u001b[38;5;124mdown\u001b[39m\u001b[38;5;124m'\u001b[39m\n\u001b[1;32m     52\u001b[0m \u001b[38;5;28;01melif\u001b[39;00m direction \u001b[38;5;241m==\u001b[39m \u001b[38;5;124m'\u001b[39m\u001b[38;5;124mdown\u001b[39m\u001b[38;5;124m'\u001b[39m:\n\u001b[0;32m---> 53\u001b[0m     index_ \u001b[38;5;241m=\u001b[39m \u001b[43mnp\u001b[49m\u001b[38;5;241;43m.\u001b[39;49m\u001b[43mwhere\u001b[49m\u001b[43m(\u001b[49m\u001b[43mnp_\u001b[49m\u001b[43m[\u001b[49m\u001b[43mx\u001b[49m\u001b[43m:\u001b[49m\u001b[43m,\u001b[49m\u001b[43my\u001b[49m\u001b[43m]\u001b[49m\u001b[43m \u001b[49m\u001b[38;5;241;43m==\u001b[39;49m\u001b[43m \u001b[49m\u001b[38;5;124;43m'\u001b[39;49m\u001b[38;5;124;43m#\u001b[39;49m\u001b[38;5;124;43m'\u001b[39;49m\u001b[43m)\u001b[49m\u001b[43m[\u001b[49m\u001b[38;5;241;43m0\u001b[39;49m\u001b[43m]\u001b[49m\u001b[43m[\u001b[49m\u001b[38;5;241;43m0\u001b[39;49m\u001b[43m]\u001b[49m \n\u001b[1;32m     54\u001b[0m     \u001b[38;5;28mprint\u001b[39m(\u001b[38;5;124mf\u001b[39m\u001b[38;5;124m\"\u001b[39m\u001b[38;5;124mDOWN - guard at (\u001b[39m\u001b[38;5;132;01m{\u001b[39;00mx\u001b[38;5;132;01m}\u001b[39;00m\u001b[38;5;124m, \u001b[39m\u001b[38;5;132;01m{\u001b[39;00my\u001b[38;5;132;01m}\u001b[39;00m\u001b[38;5;124m) VS obstacle at (\u001b[39m\u001b[38;5;132;01m{\u001b[39;00mindex_\u001b[38;5;241m+\u001b[39mx\u001b[38;5;132;01m}\u001b[39;00m\u001b[38;5;124m, \u001b[39m\u001b[38;5;132;01m{\u001b[39;00my\u001b[38;5;132;01m}\u001b[39;00m\u001b[38;5;124m) (index = \u001b[39m\u001b[38;5;132;01m{\u001b[39;00mindex_\u001b[38;5;132;01m}\u001b[39;00m\u001b[38;5;124m)\u001b[39m\u001b[38;5;124m\"\u001b[39m)\n\u001b[1;32m     55\u001b[0m     \u001b[38;5;28;01mif\u001b[39;00m index_ \u001b[38;5;241m==\u001b[39m \u001b[38;5;241m-\u001b[39m\u001b[38;5;241m1\u001b[39m: \u001b[38;5;66;03m# no obstacle found: go to y = len-1\u001b[39;00m\n\u001b[1;32m     56\u001b[0m         \u001b[38;5;66;03m# positions_to_add = np_[x:size, y] \u001b[39;00m\n",
      "\u001b[0;31mIndexError\u001b[0m: index 0 is out of bounds for axis 0 with size 0"
     ]
    }
   ],
   "source": [
    "def get_positions(np_):\n",
    "    direction = 'up'\n",
    "    x, y = np.where(np_ == '^') # initial guard's position\n",
    "    x = x[0]\n",
    "    y = y[0]\n",
    "    blocked = False\n",
    "    size = np_.shape[0]\n",
    "    # list_ = []\n",
    "    # positions_to_add = []\n",
    "    count_positions = 1 # we count the initial position\n",
    "    i = 0\n",
    "    while not blocked:\n",
    "        i += 1\n",
    "        if direction == 'up':\n",
    "            # print(np.where(np_[:x,y] == '#')[0][0])\n",
    "            index_ = np.where(np_[:x,y] == '#')[0][0] \n",
    "            print(f\"UP - guard at ({x}, {y}) VS obstacle at ({index_}, {y}) (index = {index_})\")\n",
    "            if index_ == -1: # no obstacle found: go to y = 0\n",
    "                # positions_to_add = [x in np_[0:x+1, y]] # y+1 because upper bound is EXCLUSIVE\n",
    "                count_ = len(np.where(np_[:x,y] == '.')[0])\n",
    "                x = 0\n",
    "                print(\"UP if\")\n",
    "            elif index_ == x-1:\n",
    "                blocked = True\n",
    "                print(\"UP elif\")\n",
    "                break\n",
    "            else:\n",
    "                # positions_to_add = np_[index_+1:x+1, y]\n",
    "                print(\"UP else\")\n",
    "                count_ = len(np.where(np_[index_+1:x,y] == '.')[0])\n",
    "                x = index_+1 # guard moves to the location just before the obstacle\n",
    "            print(f\"UP out of if from direction = {direction}\")\n",
    "            direction = 'right'\n",
    "            print(f\"to {direction}\")\n",
    "\n",
    "        elif direction == 'right':\n",
    "            index_ = np.where(np_[x,y:] == '#')[0][0] \n",
    "            print(f\"RIGHT - guard at ({x}, {y}) VS obstacle at ({x}, {index_+y}) (index = {index_})\")\n",
    "            if index_ == -1: # no obstacle found: go to x = len-1\n",
    "                # positions_to_add = np_[x, y:size] \n",
    "                count_ = len(np.where(np_[x,y:] == '.')[0])\n",
    "                y = size - 1\n",
    "            elif index_+y == y+1: # ATTENTION: ajouter +y car index_ compté à partir de y\n",
    "                blocked = True\n",
    "                break\n",
    "            else:\n",
    "                # positions_to_add = np_[x,y:index_] \n",
    "                count_ = len(np.where(np_[x,y+1:index_] == '.')[0])\n",
    "                y = index_-1 +y\n",
    "            direction = 'down'\n",
    "\n",
    "        elif direction == 'down':\n",
    "            index_ = np.where(np_[x:,y] == '#')[0][0] \n",
    "            print(f\"DOWN - guard at ({x}, {y}) VS obstacle at ({index_+x}, {y}) (index = {index_})\")\n",
    "            if index_ == -1: # no obstacle found: go to y = len-1\n",
    "                # positions_to_add = np_[x:size, y] \n",
    "                count_ = len(np.where(np_[x:,y] == '.')[0])\n",
    "                x = size - 1\n",
    "            elif index_ +x == x+1: # ATTENTION: ajouter +x car index_ compté à partir de x\n",
    "                blocked = True\n",
    "                break\n",
    "            else:\n",
    "                # positions_to_add = np_[x:index_, y]\n",
    "                count_ = len(np.where(np_[x+1:index_,y] == '.')[0])\n",
    "                x = index_-1+x\n",
    "            direction = 'left'\n",
    "\n",
    "        elif direction == 'left':\n",
    "            index_ = np.where(np_[x,:y] == '#')[0][0] \n",
    "            print(f\"LEFT - guard at ({x}, {y}) VS obstacle at ({x}, {index_}) (index = {index_})\")\n",
    "            if index_ == -1: # no obstacle found: go to x = 0\n",
    "                # positions_to_add = np_[x,0:y]  # y+1 because upper bound is EXCLUSIVE\n",
    "                count_ = len(np.where(np_[x,:y] == '.')[0])\n",
    "                y = 0\n",
    "            elif index_ == y-1:\n",
    "                blocked = True\n",
    "                break\n",
    "            else:\n",
    "                # positions_to_add = np_[x, index_+1:y+1]\n",
    "                count_ = len(np.where(np_[x,index_+1:y] == '.')[0])\n",
    "                y = index_+1\n",
    "            direction = 'up'\n",
    "        \n",
    "        count_positions += count_\n",
    "        # list_.extend(positions_to_add)\n",
    "        \n",
    "    return count_positions, i\n",
    "    # print(list_)\n",
    "    # return len(set(list_)) # we use set() to remove duplicates if any\n",
    "\n",
    "get_positions(np_ex) # expected : 41"
   ]
  }
 ],
 "metadata": {
  "kernelspec": {
   "display_name": "Artefact",
   "language": "python",
   "name": "python3"
  },
  "language_info": {
   "codemirror_mode": {
    "name": "ipython",
    "version": 3
   },
   "file_extension": ".py",
   "mimetype": "text/x-python",
   "name": "python",
   "nbconvert_exporter": "python",
   "pygments_lexer": "ipython3",
   "version": "3.10.12"
  }
 },
 "nbformat": 4,
 "nbformat_minor": 2
}
