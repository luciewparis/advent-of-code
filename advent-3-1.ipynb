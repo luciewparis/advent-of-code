{
 "cells": [
  {
   "cell_type": "markdown",
   "metadata": {},
   "source": [
    "0. Start by retrieving input"
   ]
  },
  {
   "cell_type": "code",
   "execution_count": 3,
   "metadata": {},
   "outputs": [
    {
     "name": "stdout",
     "output_type": "stream",
     "text": [
      "<class 'list'>\n",
      "6\n"
     ]
    }
   ],
   "source": [
    "# Retrieve input\n",
    "\n",
    "with open('advent-3-0-input.txt', \"r\", encoding='utf-8') as f:\n",
    "    instructions = f.readlines()\n",
    "\n",
    "# input finally retrieved AFTER saving the input file!!!!\n",
    "print(type(instructions)) \n",
    "print(len(instructions))"
   ]
  },
  {
   "cell_type": "code",
   "execution_count": 4,
   "metadata": {},
   "outputs": [
    {
     "data": {
      "text/plain": [
       "18477"
      ]
     },
     "execution_count": 4,
     "metadata": {},
     "output_type": "execute_result"
    }
   ],
   "source": [
    "# Form just one continuous string to work with\n",
    "str_=\"\"\n",
    "for i in range(len(instructions)):\n",
    "    str_ = \"\".join([str_, instructions[i]])\n",
    "len(str_)"
   ]
  },
  {
   "cell_type": "code",
   "execution_count": 1,
   "metadata": {},
   "outputs": [
    {
     "ename": "NameError",
     "evalue": "name 'str_' is not defined",
     "output_type": "error",
     "traceback": [
      "\u001b[0;31m---------------------------------------------------------------------------\u001b[0m",
      "\u001b[0;31mNameError\u001b[0m                                 Traceback (most recent call last)",
      "Cell \u001b[0;32mIn [1], line 9\u001b[0m\n\u001b[1;32m      7\u001b[0m index_comma \u001b[38;5;241m=\u001b[39m \u001b[38;5;241m0\u001b[39m\n\u001b[1;32m      8\u001b[0m \u001b[38;5;28;01mwhile\u001b[39;00m index_m \u001b[38;5;241m>\u001b[39m\u001b[38;5;241m=\u001b[39m \u001b[38;5;241m0\u001b[39m \u001b[38;5;129;01mand\u001b[39;00m index_comma \u001b[38;5;241m>\u001b[39m\u001b[38;5;241m=\u001b[39m \u001b[38;5;241m0\u001b[39m: \u001b[38;5;66;03m# find() returns -1 if not found\u001b[39;00m\n\u001b[0;32m----> 9\u001b[0m     index_m \u001b[38;5;241m=\u001b[39m \u001b[43mstr_\u001b[49m[index_comma:]\u001b[38;5;241m.\u001b[39mfind(x)\n\u001b[1;32m     10\u001b[0m     index_comma \u001b[38;5;241m=\u001b[39m str_[index_m\u001b[38;5;241m+\u001b[39mk:]\u001b[38;5;241m.\u001b[39mfind(\u001b[38;5;124m'\u001b[39m\u001b[38;5;124m,\u001b[39m\u001b[38;5;124m'\u001b[39m)\n\u001b[1;32m     11\u001b[0m     \u001b[38;5;28mprint\u001b[39m(\u001b[38;5;124mf\u001b[39m\u001b[38;5;124m\"\u001b[39m\u001b[38;5;124mindex_m = \u001b[39m\u001b[38;5;132;01m{\u001b[39;00mindex_m\u001b[38;5;132;01m}\u001b[39;00m\u001b[38;5;124m and index_comma = \u001b[39m\u001b[38;5;132;01m{\u001b[39;00mindex_comma\u001b[38;5;132;01m}\u001b[39;00m\u001b[38;5;124m\"\u001b[39m)\n",
      "\u001b[0;31mNameError\u001b[0m: name 'str_' is not defined"
     ]
    }
   ],
   "source": [
    "# Let's search the integers to multiply and store them in 2 lists\n",
    "list1 = [] # for int1\n",
    "list2 = [] # fort int2\n",
    "x=\"mul(\"\n",
    "k = 4 # to add to index_m to get the character after 'mul('\n",
    "index_m = 0\n",
    "index_comma = 0\n",
    "index_close = 0\n",
    "i = 0\n",
    "\n",
    "# for i in range(len(instructions)):\n",
    "while index_m >= 0 and index_comma >= 0 and index_close >= 0: # find() returns -1 if not found\n",
    "    index_m = str_.find(x)\n",
    "    index_comma = str_[index_m:].find(',')\n",
    "    index_close = str_[index_m:].find(')')\n",
    "    # print(f\"index_m = {index_m} and index_comma = {index_comma}\")\n",
    "\n",
    "    if index_comma > index_close:\n",
    "        str_= str_[index_m+k:]\n",
    "        continue # loop while\n",
    "        \n",
    "    else:\n",
    "        print(f\"int1 ?= {str_[index_m+k:index_comma-1]}\")\n",
    "        if not str_[index_m+k:index_comma-1].isdigit(): # int1\n",
    "            str_= str_[index_m+k:]\n",
    "            continue # loop while\n",
    "        else:\n",
    "            print(f\"int2 ?= {str_[index_comma+1:index_close-1]}\")\n",
    "            if not str_[index_comma+1:index_close-1].isdigit(): # int2\n",
    "                str_= str_[index_comma+1:]\n",
    "                continue # loop while\n",
    "            else:\n",
    "                list1.append(int(str_[index_m+k:index_comma-1]))\n",
    "                list2.append(int(str_[index_comma+1:index_close-1]))\n",
    "                print(list1, list2)\n",
    "                str_= str_[index_close+1:]\n",
    "\n",
    "len(list1), len(list2)\n"
   ]
  },
  {
   "cell_type": "code",
   "execution_count": null,
   "metadata": {},
   "outputs": [],
   "source": [
    "import numpy as np"
   ]
  }
 ],
 "metadata": {
  "kernelspec": {
   "display_name": "Artefact",
   "language": "python",
   "name": "python3"
  },
  "language_info": {
   "codemirror_mode": {
    "name": "ipython",
    "version": 3
   },
   "file_extension": ".py",
   "mimetype": "text/x-python",
   "name": "python",
   "nbconvert_exporter": "python",
   "pygments_lexer": "ipython3",
   "version": "3.10.12"
  }
 },
 "nbformat": 4,
 "nbformat_minor": 2
}
