{
 "cells": [
  {
   "cell_type": "code",
   "execution_count": 1,
   "metadata": {},
   "outputs": [
    {
     "name": "stdout",
     "output_type": "stream",
     "text": [
      "<class 'list'>\n",
      "140\n",
      "140\n",
      "<class 'str'>\n"
     ]
    }
   ],
   "source": [
    "# 0. Start by retrieving input\n",
    "\n",
    "with open('advent-4-0-input.txt') as f:\n",
    "    matrix = f.read().splitlines()\n",
    "\n",
    "print(type(matrix)) # check the format of reports\n",
    "print(len(matrix))\n",
    "print(len(matrix[0])) # matrix carrée 140 x 140\n",
    "print(type(matrix[0])) # matrix est une liste de strings\n",
    "\n",
    "x='XMAS'"
   ]
  },
  {
   "cell_type": "code",
   "execution_count": 2,
   "metadata": {},
   "outputs": [],
   "source": [
    "# We retrieve example to check our code below\n",
    "with open('advent-4-0ex.txt') as f:\n",
    "    ex = f.read().splitlines()"
   ]
  },
  {
   "cell_type": "code",
   "execution_count": 3,
   "metadata": {},
   "outputs": [
    {
     "data": {
      "text/plain": [
       "3"
      ]
     },
     "execution_count": 3,
     "metadata": {},
     "output_type": "execute_result"
    }
   ],
   "source": [
    "# We define the 8 functions that will search for XMAS\n",
    "\n",
    "def horiz_norm(list_):\n",
    "    count_ = 0\n",
    "    for str in list_:\n",
    "        count_ += str.count(x)\n",
    "    return count_\n",
    "\n",
    "horiz_norm(ex) #expected 3"
   ]
  },
  {
   "cell_type": "code",
   "execution_count": 5,
   "metadata": {},
   "outputs": [
    {
     "name": "stdout",
     "output_type": "stream",
     "text": [
      "SAMX\n"
     ]
    },
    {
     "data": {
      "text/plain": [
       "2"
      ]
     },
     "execution_count": 5,
     "metadata": {},
     "output_type": "execute_result"
    }
   ],
   "source": [
    "def horiz_opp(list_):\n",
    "    count_ = 0\n",
    "    for str in list_:\n",
    "        count_ += str.count(x[::-1])\n",
    "    return count_\n",
    "\n",
    "print(x[::-1])\n",
    "horiz_opp(ex) #expected 2"
   ]
  },
  {
   "cell_type": "code",
   "execution_count": 32,
   "metadata": {},
   "outputs": [],
   "source": [
    "import numpy as np # mieux pour manipuler des matrices\n",
    "\n",
    "def matrix_to_np(list_):\n",
    "    list_letters = []\n",
    "    for i in range(len(list_)): # nb de listes (lignes)\n",
    "        list_letters.append(list(list_[i])) # on convertit la string de chaque ligne en liste de lettres et on les ajoute les unes aux autres\n",
    "    return np.array(list_letters)\n",
    "\n",
    "np_matrix = matrix_to_np(matrix)\n",
    "np_ex = matrix_to_np(ex)"
   ]
  },
  {
   "cell_type": "code",
   "execution_count": 48,
   "metadata": {},
   "outputs": [
    {
     "data": {
      "text/plain": [
       "3"
      ]
     },
     "execution_count": 48,
     "metadata": {},
     "output_type": "execute_result"
    }
   ],
   "source": [
    "def horiz_norm_np(np_):\n",
    "    list_lines = []\n",
    "    size= len(np_[0])\n",
    "    for i in range(size): # on parcourt chaque ligne (assume same nb of lines & columns (matrix iso))\n",
    "        line=\"\"\n",
    "        for j in range(size): # on parcourt chaque lettre (colonne) de la ligne\n",
    "            line = \"\".join([line, np_[i][j]])\n",
    "        list_lines.append(line)\n",
    "    return horiz_norm(list_lines)\n",
    "\n",
    "horiz_norm_np(np_ex) # expected 3 => sanity check OK"
   ]
  },
  {
   "cell_type": "code",
   "execution_count": 49,
   "metadata": {},
   "outputs": [
    {
     "data": {
      "text/plain": [
       "2"
      ]
     },
     "execution_count": 49,
     "metadata": {},
     "output_type": "execute_result"
    }
   ],
   "source": [
    "def horiz_opp_np(np_):\n",
    "    list_lines = []\n",
    "    size= len(np_[0])\n",
    "    for i in range(size): # on parcourt chaque ligne (assume same nb of lines & columns (matrix iso))\n",
    "        line=\"\"\n",
    "        for j in range(size): # on parcourt chaque lettre (colonne) de la ligne\n",
    "            line = \"\".join([line, np_[i][j]])\n",
    "        list_lines.append(line)\n",
    "    return horiz_opp(list_lines)\n",
    "\n",
    "horiz_opp_np(np_ex) # expected 2 => sanity check OK"
   ]
  },
  {
   "cell_type": "code",
   "execution_count": 30,
   "metadata": {},
   "outputs": [
    {
     "data": {
      "text/plain": [
       "[array(['M', 'M', 'A', 'M', 'X', 'X', 'S', 'S', 'M', 'M'], dtype='<U1'),\n",
       " array(['M', 'S', 'M', 'S', 'M', 'X', 'M', 'A', 'A', 'X'], dtype='<U1')]"
      ]
     },
     "execution_count": 30,
     "metadata": {},
     "output_type": "execute_result"
    }
   ],
   "source": [
    "list_test=[]\n",
    "list_test.append(np_ex[:,0])\n",
    "list_test.append(np_ex[:,1])\n",
    "list_test"
   ]
  },
  {
   "cell_type": "code",
   "execution_count": 53,
   "metadata": {},
   "outputs": [
    {
     "data": {
      "text/plain": [
       "1"
      ]
     },
     "execution_count": 53,
     "metadata": {},
     "output_type": "execute_result"
    }
   ],
   "source": [
    "def vertic_norm_np(np_list):\n",
    "    list_column = []\n",
    "    for i in range(len(np_list[0])): # on parcourt colonne par colonne\n",
    "        list_column.append(np_list[:,i])\n",
    "    return horiz_norm_np(list_column)\n",
    "\n",
    "vertic_norm_np(np_ex) #expected 1"
   ]
  },
  {
   "cell_type": "code",
   "execution_count": 54,
   "metadata": {},
   "outputs": [
    {
     "data": {
      "text/plain": [
       "2"
      ]
     },
     "execution_count": 54,
     "metadata": {},
     "output_type": "execute_result"
    }
   ],
   "source": [
    "def vertic_opp_np(np_list):\n",
    "    list_column = []\n",
    "    for i in range(len(np_list[0])): # on parcourt colonne par colonne\n",
    "        list_column.append(np_list[:,i])\n",
    "    return horiz_opp_np(list_column)\n",
    "\n",
    "vertic_opp_np(np_ex) #expected 2"
   ]
  },
  {
   "cell_type": "code",
   "execution_count": 60,
   "metadata": {},
   "outputs": [
    {
     "data": {
      "text/plain": [
       "1"
      ]
     },
     "execution_count": 60,
     "metadata": {},
     "output_type": "execute_result"
    }
   ],
   "source": [
    "def diag_norm_np(np_):\n",
    "    size= len(np_[0])\n",
    "    count = 0\n",
    "    if size < 4:\n",
    "        return \"Matrix too small, size should be => 4.\"\n",
    "    else:\n",
    "        for i in range(0,size-3): # on parcourt chaque ligne jusqu'à size-4 (inclus) sinon pas possible de former 'XMAS'\n",
    "            for j in range(0,size-3): # on parcourt chaque lettre\n",
    "                if np_[i][j] != x[0]: # X\n",
    "                    continue\n",
    "                else:\n",
    "                    if np_[i+1][j+1] == x[1]: # M\n",
    "                        if np_[i+2][j+2] == x[2]: # A\n",
    "                            if np_[i+3][j+3] == x[3]: # S\n",
    "                                count += 1\n",
    "    return count\n",
    "\n",
    "diag_norm_np(np_ex) # expected 1"
   ]
  },
  {
   "cell_type": "code",
   "execution_count": 61,
   "metadata": {},
   "outputs": [
    {
     "data": {
      "text/plain": [
       "'Matrix too small, size should be => 4.'"
      ]
     },
     "execution_count": 61,
     "metadata": {},
     "output_type": "execute_result"
    }
   ],
   "source": [
    "diag_norm_np(np.eye(3)) # sanity check for a matrix which is too small (here: identity matrix size 3)"
   ]
  },
  {
   "cell_type": "code",
   "execution_count": null,
   "metadata": {},
   "outputs": [
    {
     "data": {
      "text/plain": [
       "4"
      ]
     },
     "execution_count": 63,
     "metadata": {},
     "output_type": "execute_result"
    }
   ],
   "source": [
    "def diag_opp_np(np_):\n",
    "    size= len(np_[0])\n",
    "    count = 0\n",
    "    if size < 4:\n",
    "        return \"Matrix too small, size should be => 4.\"\n",
    "    else:\n",
    "        for i in range(0,size-3): # on parcourt chaque ligne jusqu'à size-4 (inclus) sinon pas possible de former 'XMAS'\n",
    "            for j in range(0,size-3): # on parcourt chaque lettre\n",
    "                if np_[size-1-i][size-1-j] != x[0]: # X\n",
    "                    continue\n",
    "                else:\n",
    "                    if np_[size-1-(i+1)][size-1-(j+1)] == x[1]: # M\n",
    "                        if np_[size-1-(i+2)][size-1-(j+2)] == x[2]: # A\n",
    "                            if np_[size-1-(i+3)][size-1-(j+3)] == x[3]: # S\n",
    "                                count += 1\n",
    "    return count\n",
    "\n",
    "diag_opp_np(np_ex) # expected 4"
   ]
  },
  {
   "cell_type": "code",
   "execution_count": 64,
   "metadata": {},
   "outputs": [
    {
     "data": {
      "text/plain": [
       "4"
      ]
     },
     "execution_count": 64,
     "metadata": {},
     "output_type": "execute_result"
    }
   ],
   "source": [
    "def diag2_norm_np(np_):\n",
    "    size= len(np_[0])\n",
    "    count = 0\n",
    "    if size < 4:\n",
    "        return \"Matrix too small, size should be => 4.\"\n",
    "    else:\n",
    "        for i in range(0,size-3): # on parcourt chaque ligne jusqu'à size-4 (inclus) sinon pas possible de former 'XMAS'\n",
    "            for j in range(0,size-3): # on parcourt chaque lettre\n",
    "                if np_[size-1-i][j] != x[0]: # X\n",
    "                    continue\n",
    "                else:\n",
    "                    if np_[size-1-(i+1)][(j+1)] == x[1]: # M\n",
    "                        if np_[size-1-(i+2)][(j+2)] == x[2]: # A\n",
    "                            if np_[size-1-(i+3)][(j+3)] == x[3]: # S\n",
    "                                count += 1\n",
    "    return count\n",
    "\n",
    "diag2_norm_np(np_ex) # expected 4"
   ]
  },
  {
   "cell_type": "code",
   "execution_count": 65,
   "metadata": {},
   "outputs": [
    {
     "data": {
      "text/plain": [
       "1"
      ]
     },
     "execution_count": 65,
     "metadata": {},
     "output_type": "execute_result"
    }
   ],
   "source": [
    "def diag2_opp_np(np_):\n",
    "    size= len(np_[0])\n",
    "    count = 0\n",
    "    if size < 4:\n",
    "        return \"Matrix too small, size should be => 4.\"\n",
    "    else:\n",
    "        for i in range(0,size-3): # on parcourt chaque ligne jusqu'à size-4 (inclus) sinon pas possible de former 'XMAS'\n",
    "            for j in range(0,size-3): # on parcourt chaque lettre\n",
    "                if np_[i][size-1-j] != x[0]: # X\n",
    "                    continue\n",
    "                else:\n",
    "                    if np_[(i+1)][size-1-(j+1)] == x[1]: # M\n",
    "                        if np_[(i+2)][size-1-(j+2)] == x[2]: # A\n",
    "                            if np_[(i+3)][size-1-(j+3)] == x[3]: # S\n",
    "                                count += 1\n",
    "    return count\n",
    "\n",
    "diag2_opp_np(np_ex) # expected 1"
   ]
  },
  {
   "cell_type": "code",
   "execution_count": 68,
   "metadata": {},
   "outputs": [
    {
     "data": {
      "text/plain": [
       "18"
      ]
     },
     "execution_count": 68,
     "metadata": {},
     "output_type": "execute_result"
    }
   ],
   "source": [
    "def sum_count(np_):\n",
    "    sum = diag2_opp_np(np_) + diag2_norm_np(np_) + diag_norm_np(np_) + diag_opp_np(np_) + horiz_norm_np(np_) + horiz_opp_np(np_) + vertic_norm_np(np_) + vertic_opp_np(np_) \n",
    "    return sum\n",
    "\n",
    "sum_count(np_ex) # code OK with the example of size 10"
   ]
  },
  {
   "cell_type": "code",
   "execution_count": 69,
   "metadata": {},
   "outputs": [
    {
     "data": {
      "text/plain": [
       "2517"
      ]
     },
     "execution_count": 69,
     "metadata": {},
     "output_type": "execute_result"
    }
   ],
   "source": [
    "sum_count(np_matrix)"
   ]
  }
 ],
 "metadata": {
  "kernelspec": {
   "display_name": "Artefact",
   "language": "python",
   "name": "python3"
  },
  "language_info": {
   "codemirror_mode": {
    "name": "ipython",
    "version": 3
   },
   "file_extension": ".py",
   "mimetype": "text/x-python",
   "name": "python",
   "nbconvert_exporter": "python",
   "pygments_lexer": "ipython3",
   "version": "3.10.12"
  }
 },
 "nbformat": 4,
 "nbformat_minor": 2
}
