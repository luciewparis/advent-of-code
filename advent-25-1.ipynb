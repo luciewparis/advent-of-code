{
 "cells": [
  {
   "cell_type": "markdown",
   "metadata": {},
   "source": [
    "### 1. Input prep"
   ]
  },
  {
   "cell_type": "code",
   "execution_count": 1,
   "metadata": {},
   "outputs": [
    {
     "data": {
      "text/plain": [
       "3999"
      ]
     },
     "execution_count": 1,
     "metadata": {},
     "output_type": "execute_result"
    }
   ],
   "source": [
    "with open('advent-25-0-input.txt') as f:\n",
    "    keys_locks = f.read().splitlines()\n",
    "\n",
    "len(keys_locks)"
   ]
  },
  {
   "cell_type": "code",
   "execution_count": 71,
   "metadata": {},
   "outputs": [
    {
     "data": {
      "text/plain": [
       "39"
      ]
     },
     "execution_count": 71,
     "metadata": {},
     "output_type": "execute_result"
    }
   ],
   "source": [
    "# Let's upload the example to check our code\n",
    "with open('advent-25-0ex.txt') as f:\n",
    "    ex = f.read().splitlines()\n",
    "\n",
    "len(ex)"
   ]
  },
  {
   "cell_type": "code",
   "execution_count": 74,
   "metadata": {},
   "outputs": [
    {
     "data": {
      "text/plain": [
       "(3999, 39)"
      ]
     },
     "execution_count": 74,
     "metadata": {},
     "output_type": "execute_result"
    }
   ],
   "source": [
    "# (1) first convert sequence of symbols into a list\n",
    "def separate_symbol(liste):\n",
    "    list_ = []\n",
    "    for i in range(len(liste)):\n",
    "        line = list(liste[i])\n",
    "        list_.append(line)\n",
    "    return list_\n",
    "\n",
    "list_ = separate_symbol(keys_locks)\n",
    "list_ex = separate_symbol(ex)\n",
    "len(list_), len(list_ex)"
   ]
  },
  {
   "cell_type": "code",
   "execution_count": 80,
   "metadata": {},
   "outputs": [
    {
     "name": "stdout",
     "output_type": "stream",
     "text": [
      "init size: 1\n",
      "init size: 1\n"
     ]
    },
    {
     "data": {
      "text/plain": [
       "(500, 5)"
      ]
     },
     "execution_count": 80,
     "metadata": {},
     "output_type": "execute_result"
    }
   ],
   "source": [
    "# (2) let's gather by item (key and lock)\n",
    "# each item to numpy arrays to ease manipulation with columns\n",
    "import numpy as np\n",
    "\n",
    "def separate_items(liste):\n",
    "    list_2 = list(liste[:7]) # 7 is exclusive\n",
    "    list_2 = [np.array(list_2)]\n",
    "    print(f\"init size: {len(list_2)}\")\n",
    "    for i in range(7,len(liste),8): # on parcourt chaque ligne\n",
    "        list_2.append(np.array(list(liste[i+1:i+8])))\n",
    "    return list_2\n",
    "\n",
    "list_2 = separate_items(list_)\n",
    "list_2ex = separate_items(list_ex)\n",
    "len(list_2), len(list_2ex) # should be 500 (4000 lines / 8) and 5"
   ]
  },
  {
   "cell_type": "code",
   "execution_count": 42,
   "metadata": {},
   "outputs": [
    {
     "data": {
      "text/plain": [
       "(7,\n",
       " 7,\n",
       " array([['#', '#', '#', '#', '#'],\n",
       "        ['#', '#', '#', '.', '#'],\n",
       "        ['#', '#', '#', '.', '#'],\n",
       "        ['.', '#', '#', '.', '#'],\n",
       "        ['.', '#', '.', '.', '#'],\n",
       "        ['.', '.', '.', '.', '#'],\n",
       "        ['.', '.', '.', '.', '.']], dtype='<U1'),\n",
       " array(['.', '.', '.', '.', '.'], dtype='<U1'))"
      ]
     },
     "execution_count": 42,
     "metadata": {},
     "output_type": "execute_result"
    }
   ],
   "source": [
    "len(list_2[0]), len(list_2[1]), list_2[0], list_2[0][6] # sanity checks"
   ]
  },
  {
   "cell_type": "code",
   "execution_count": 49,
   "metadata": {},
   "outputs": [
    {
     "data": {
      "text/plain": [
       "array([ True,  True,  True,  True,  True])"
      ]
     },
     "execution_count": 49,
     "metadata": {},
     "output_type": "execute_result"
    }
   ],
   "source": [
    "list_2[0][0] == ['#', '#', '#', '#', '#'] # sanity checks"
   ]
  },
  {
   "cell_type": "code",
   "execution_count": null,
   "metadata": {},
   "outputs": [
    {
     "data": {
      "text/plain": [
       "(250, 250, 2, 3)"
      ]
     },
     "execution_count": 81,
     "metadata": {},
     "output_type": "execute_result"
    }
   ],
   "source": [
    "# let's separate items in lists of keys & locks\n",
    "def separate_types(liste):\n",
    "    list_keys = []\n",
    "    list_locks= []\n",
    "\n",
    "    for i in range(len(liste)): # on parcourt le nombre d'items dans list_2\n",
    "        if (liste[i][0] == ['#', '#', '#', '#', '#']).any(): # LOCKS\n",
    "            list_locks.append(liste[i])\n",
    "        else:\n",
    "            list_keys.append(liste[i])\n",
    "    return list_locks, list_keys\n",
    "\n",
    "list_locks, list_keys = separate_types(list_2)[0], separate_types(list_2)[1]\n",
    "list_locks_ex, list_keys_ex = separate_types(list_2ex)[0], separate_types(list_2ex)[1]\n",
    "len(list_locks), len(list_keys), len(list_locks_ex), len(list_keys_ex) # same number (250) of keys and locks! \n",
    "                                                                    # And resp. 2 and 3 for ex"
   ]
  },
  {
   "cell_type": "markdown",
   "metadata": {},
   "source": [
    "### 2. Convert to heights"
   ]
  },
  {
   "cell_type": "code",
   "execution_count": 56,
   "metadata": {},
   "outputs": [
    {
     "data": {
      "text/plain": [
       "(array(['#', '#', '#', '.', '.', '.', '.'], dtype='<U1'), numpy.ndarray)"
      ]
     },
     "execution_count": 56,
     "metadata": {},
     "output_type": "execute_result"
    }
   ],
   "source": [
    "lock_0_col0 = list_locks[0][:,0] # colonne 0 du premier lock\n",
    "lock_0_col0, type(lock_0_col0)"
   ]
  },
  {
   "cell_type": "code",
   "execution_count": 57,
   "metadata": {},
   "outputs": [
    {
     "data": {
      "text/plain": [
       "3"
      ]
     },
     "execution_count": 57,
     "metadata": {},
     "output_type": "execute_result"
    }
   ],
   "source": [
    "np.count_nonzero(lock_0_col0 == '#') # sanity checks"
   ]
  },
  {
   "cell_type": "code",
   "execution_count": null,
   "metadata": {},
   "outputs": [
    {
     "data": {
      "text/plain": [
       "(250,\n",
       " 250,\n",
       " [array([0, 5, 3, 4, 3]), array([1, 2, 0, 5, 3])],\n",
       " [array([5, 0, 2, 1, 3]), array([4, 3, 4, 0, 2]), array([3, 0, 2, 0, 1])])"
      ]
     },
     "execution_count": 84,
     "metadata": {},
     "output_type": "execute_result"
    }
   ],
   "source": [
    "# Let's convert each lock and key to heights\n",
    "def count_height(list_items):\n",
    "    size = len(list_items[0][0]) # same for all locks and keys, nb of columns\n",
    "    heights = []\n",
    "    for item in list_items: # on parcourt chaque item\n",
    "        height_item = []\n",
    "        for j in range(size):\n",
    "            height = np.count_nonzero(item[:,j] == '#') - 1 # we start counting at 0 (and there is always at least ONE '#')\n",
    "            # height = item[:,j].count('#') - 1 # don't use count() which is a method for LISTS (not numpy arrays) \n",
    "            height_item.append(height) # liste des heights pour UN ITEM\n",
    "        heights.append(np.array(height_item)) # np.array ppur faciliter manipulations sur les colonnes\n",
    "    return heights\n",
    "\n",
    "list_keys_heights = count_height(list_keys)\n",
    "list_locks_heights = count_height(list_locks)\n",
    "list_keys_heights_ex = count_height(list_keys_ex)\n",
    "list_locks_heights_ex = count_height(list_locks_ex)\n",
    "len(list_keys_heights), len(list_locks_heights), list_locks_heights_ex, list_keys_heights_ex \n",
    "# expected for ex: LOCKS 0,5,3,4,3 and 1,2,0,5,3 || KEYS 5,0,2,1,3 and 4,3,4,0,2 and 3,0,2,0,1 => OK!"
   ]
  },
  {
   "cell_type": "code",
   "execution_count": 90,
   "metadata": {},
   "outputs": [
    {
     "data": {
      "text/plain": [
       "numpy.ndarray"
      ]
     },
     "execution_count": 90,
     "metadata": {},
     "output_type": "execute_result"
    }
   ],
   "source": [
    "type(list_keys_heights[0])"
   ]
  },
  {
   "cell_type": "markdown",
   "metadata": {},
   "source": [
    "### 3. Calculate the unique lock/key pairs"
   ]
  },
  {
   "cell_type": "code",
   "execution_count": 93,
   "metadata": {},
   "outputs": [
    {
     "data": {
      "text/plain": [
       "3"
      ]
     },
     "execution_count": 93,
     "metadata": {},
     "output_type": "execute_result"
    }
   ],
   "source": [
    "# For each key we will try every lock and check if there is an overlap\n",
    "\n",
    "def check_overlap(listeA, listeB): # arguments are list of np.arrays\n",
    "    liste_sum = []\n",
    "    count = 0\n",
    "    # sum keys and locks\n",
    "    for a_np in listeA:\n",
    "        for b_np in listeB:\n",
    "            liste_sum.append(a_np + b_np)\n",
    "    # check that there is no overlap\n",
    "    for sum_np in liste_sum:\n",
    "        if sum_np.max() <= 5:\n",
    "            count += 1\n",
    "    return count\n",
    "\n",
    "check_overlap(list_locks_heights_ex, list_keys_heights_ex) # expected: 3\n"
   ]
  },
  {
   "cell_type": "code",
   "execution_count": 94,
   "metadata": {},
   "outputs": [
    {
     "data": {
      "text/plain": [
       "3287"
      ]
     },
     "execution_count": 94,
     "metadata": {},
     "output_type": "execute_result"
    }
   ],
   "source": [
    "# Le moment de vérité!\n",
    "check_overlap(list_locks_heights, list_keys_heights)"
   ]
  }
 ],
 "metadata": {
  "kernelspec": {
   "display_name": "Artefact",
   "language": "python",
   "name": "python3"
  },
  "language_info": {
   "codemirror_mode": {
    "name": "ipython",
    "version": 3
   },
   "file_extension": ".py",
   "mimetype": "text/x-python",
   "name": "python",
   "nbconvert_exporter": "python",
   "pygments_lexer": "ipython3",
   "version": "3.10.12"
  }
 },
 "nbformat": 4,
 "nbformat_minor": 2
}
