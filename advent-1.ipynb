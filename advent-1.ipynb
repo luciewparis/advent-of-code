{
 "cells": [
  {
   "cell_type": "code",
   "execution_count": 16,
   "metadata": {},
   "outputs": [],
   "source": [
    "# https://adventofcode.com/2024/day/1\n",
    "# the best place to check first would be the Chief Historian's office\n",
    "# Throughout the Chief's office, the historically significant locations are listed not by name but by a unique number called the location ID. \n",
    "\n",
    "# Objective: help The Historians (2 groups) reconcile their lists\n",
    "# list_1= [3,4,2,1,3,3]\n",
    "# list_2= [4,3,5,3,9,3]\n",
    "list_1= [3,4,2,1,3,3]\n",
    "list_2= [4,3,5,3,9,3]\n",
    "distance_total = 0"
   ]
  },
  {
   "cell_type": "code",
   "execution_count": 17,
   "metadata": {},
   "outputs": [],
   "source": [
    "# 1) Pair up the smallest number in the left list with the smallest number in the right list \n",
    "# & calculate distance \n",
    "# m1 = min(list_1)\n",
    "# m1_position = list_1.index(m1)\n",
    "# m2 = min(list_2)\n",
    "# m2_position = list_2.index(m2)\n",
    "# print(f\"position for min in list_1 is {m1_position} and for list_2 is {m2_position}\")\n",
    "# distance_total += (m2 - m1)\n",
    "# print(f\"distance of min pair {m1} and {m2} is {(m2 - m1)}\")\n"
   ]
  },
  {
   "cell_type": "code",
   "execution_count": 18,
   "metadata": {},
   "outputs": [
    {
     "name": "stdout",
     "output_type": "stream",
     "text": [
      "distance of min pair 1 and 3 is 2\n",
      "distance total: 2\n",
      "distance of min pair 2 and 3 is 1\n",
      "distance total: 3\n",
      "distance of min pair 3 and 3 is 0\n",
      "distance total: 3\n",
      "distance of min pair 3 and 4 is 1\n",
      "distance total: 4\n",
      "distance of min pair 3 and 5 is 2\n",
      "distance total: 6\n",
      "distance of min pair 4 and 9 is 5\n",
      "distance total: 11\n",
      "distance totale = 11\n"
     ]
    }
   ],
   "source": [
    "# 2) then the second-smallest left number with the second-smallest right number, and so on.\n",
    "# & calculate distance \n",
    "for i in range(len(list_1)):\n",
    "    m1 = min(list_1)\n",
    "    m1_position = list_1.index(m1)\n",
    "    m2 = min(list_2)\n",
    "    m2_position = list_2.index(m2)\n",
    "    # print(f\"position for min in list_1 is {m1_position} and for list_2 is {m2_position}\")\n",
    "    distance_total += (m2 - m1)\n",
    "    print(f\"distance of min pair {m1} and {m2} is {(m2 - m1)}\")\n",
    "    print(f\"distance total: {distance_total}\")\n",
    "    list_1.pop(m1_position)\n",
    "    list_2.pop(m2_position)\n",
    " \n",
    "print(f\"distance totale = {distance_total}\")"
   ]
  }
 ],
 "metadata": {
  "kernelspec": {
   "display_name": "Artefact",
   "language": "python",
   "name": "python3"
  },
  "language_info": {
   "codemirror_mode": {
    "name": "ipython",
    "version": 3
   },
   "file_extension": ".py",
   "mimetype": "text/x-python",
   "name": "python",
   "nbconvert_exporter": "python",
   "pygments_lexer": "ipython3",
   "version": "3.10.12"
  }
 },
 "nbformat": 4,
 "nbformat_minor": 2
}
