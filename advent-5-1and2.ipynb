{
 "cells": [
  {
   "cell_type": "markdown",
   "metadata": {},
   "source": [
    "# Part 1"
   ]
  },
  {
   "cell_type": "markdown",
   "metadata": {},
   "source": [
    "### 0. Start by retrieving input"
   ]
  },
  {
   "cell_type": "code",
   "execution_count": 1,
   "metadata": {},
   "outputs": [
    {
     "data": {
      "text/plain": [
       "(197, '27,51,67,91,42,86,58,66,39,72,96', 1176, '96|15')"
      ]
     },
     "execution_count": 1,
     "metadata": {},
     "output_type": "execute_result"
    }
   ],
   "source": [
    "with open('advent-5-0-rules.txt') as f:\n",
    "    rules = f.read().splitlines()\n",
    "\n",
    "with open('advent-5-0-pages.txt') as f:\n",
    "    pages = f.read().splitlines()\n",
    "\n",
    "len(pages), pages[0], len(rules), rules[0]"
   ]
  },
  {
   "cell_type": "code",
   "execution_count": 2,
   "metadata": {},
   "outputs": [
    {
     "data": {
      "text/plain": [
       "(6, '75,47,61,53,29', 21, '47|53', ['75', '47', '61', '53', '29'])"
      ]
     },
     "execution_count": 2,
     "metadata": {},
     "output_type": "execute_result"
    }
   ],
   "source": [
    "# Same with example\n",
    "with open('advent-5-0-rules-ex.txt') as f:\n",
    "    rules_ex = f.read().splitlines()\n",
    "\n",
    "with open('advent-5-0-pages-ex.txt') as f:\n",
    "    pages_ex = f.read().splitlines()\n",
    "\n",
    "len(pages_ex), pages_ex[0], len(rules_ex), rules_ex[0], pages_ex[0].split(',')"
   ]
  },
  {
   "cell_type": "code",
   "execution_count": 3,
   "metadata": {},
   "outputs": [
    {
     "data": {
      "text/plain": [
       "(197,\n",
       " 6,\n",
       " [['75', '47', '61', '53', '29'],\n",
       "  ['97', '61', '53', '29', '13'],\n",
       "  ['75', '29', '13'],\n",
       "  ['75', '97', '47', '61', '53'],\n",
       "  ['61', '13', '29'],\n",
       "  ['97', '13', '75', '29', '47']])"
      ]
     },
     "execution_count": 3,
     "metadata": {},
     "output_type": "execute_result"
    }
   ],
   "source": [
    "# (1) first convert sequence of sequence numbers into a list\n",
    "def separate_symbol(liste):\n",
    "    list_ = []\n",
    "    for i in range(len(liste)):\n",
    "        pages = liste[i].split(',')\n",
    "        list_.append(pages)\n",
    "    return list_\n",
    "\n",
    "pages_split = separate_symbol(pages)\n",
    "pages_split_ex = separate_symbol(pages_ex)\n",
    "len(pages_split), len(pages_split_ex), pages_split_ex"
   ]
  },
  {
   "cell_type": "code",
   "execution_count": 4,
   "metadata": {},
   "outputs": [
    {
     "data": {
      "text/plain": [
       "(1176,\n",
       " 21,\n",
       " [['47', '53'],\n",
       "  ['97', '13'],\n",
       "  ['97', '61'],\n",
       "  ['97', '47'],\n",
       "  ['75', '29'],\n",
       "  ['61', '13'],\n",
       "  ['75', '53'],\n",
       "  ['29', '13'],\n",
       "  ['97', '29'],\n",
       "  ['53', '29'],\n",
       "  ['61', '53'],\n",
       "  ['97', '53'],\n",
       "  ['61', '29'],\n",
       "  ['47', '13'],\n",
       "  ['75', '47'],\n",
       "  ['97', '75'],\n",
       "  ['47', '61'],\n",
       "  ['75', '61'],\n",
       "  ['47', '29'],\n",
       "  ['75', '13'],\n",
       "  ['53', '13']],\n",
       " False)"
      ]
     },
     "execution_count": 4,
     "metadata": {},
     "output_type": "execute_result"
    }
   ],
   "source": [
    "# (2) convert rules in lists\n",
    "def separate_rules(liste):\n",
    "    list_ = []\n",
    "    for i in range(len(liste)):\n",
    "        rule = liste[i].split('|')\n",
    "        list_.append(rule)\n",
    "    return list_\n",
    "\n",
    "rules_split = separate_rules(rules)\n",
    "rules_split_ex = separate_rules(rules_ex)\n",
    "len(rules_split), len(rules_split_ex), rules_split_ex, '47' in rules_split_ex  # need to define a new function to get all numbers with a rule (cf below)"
   ]
  },
  {
   "cell_type": "code",
   "execution_count": 5,
   "metadata": {},
   "outputs": [
    {
     "name": "stdout",
     "output_type": "stream",
     "text": [
      "nb de règles vs nb de numéros impliqués = 21 VS 7 (exemple), 1176 VS 49 (input)\n"
     ]
    },
    {
     "data": {
      "text/plain": [
       "{'13', '29', '47', '53', '61', '75', '97'}"
      ]
     },
     "execution_count": 5,
     "metadata": {},
     "output_type": "execute_result"
    }
   ],
   "source": [
    "def all_nb_rules(listes):\n",
    "    list_ = []\n",
    "    for liste in listes:\n",
    "        list_.extend([liste[0], liste[1]]) # append a list of several elements\n",
    "    return set(list_)\n",
    "\n",
    "nb_rules_ex = all_nb_rules(rules_split_ex)\n",
    "nb_rules = all_nb_rules(rules_split)\n",
    "print(f\"nb de règles vs nb de numéros impliqués = {len(rules_split_ex)} VS {len(nb_rules_ex)} (exemple), {len(rules_split)} VS {len(nb_rules)} (input)\")\n",
    "nb_rules_ex"
   ]
  },
  {
   "cell_type": "markdown",
   "metadata": {},
   "source": [
    "### 1. We only keep pages that are in the right order (i.e do not break any rule)"
   ]
  },
  {
   "cell_type": "code",
   "execution_count": 6,
   "metadata": {},
   "outputs": [
    {
     "data": {
      "text/plain": [
       "[['97', '13'],\n",
       " ['61', '13'],\n",
       " ['29', '13'],\n",
       " ['47', '13'],\n",
       " ['75', '13'],\n",
       " ['53', '13']]"
      ]
     },
     "execution_count": 6,
     "metadata": {},
     "output_type": "execute_result"
    }
   ],
   "source": [
    "def rules_selected(rules_, nb_str): # select only the rules in rules_ involving nb_str\n",
    "    list_ = []\n",
    "    for rule in rules_:\n",
    "        if nb_str in rule:\n",
    "            list_.append(rule)\n",
    "    return list_\n",
    "\n",
    "rules_selected(rules_split_ex, '13')"
   ]
  },
  {
   "cell_type": "code",
   "execution_count": 7,
   "metadata": {},
   "outputs": [
    {
     "data": {
      "text/plain": [
       "[['75', '47', '61', '53', '29'],\n",
       " ['97', '61', '53', '29', '13'],\n",
       " ['75', '29', '13']]"
      ]
     },
     "execution_count": 7,
     "metadata": {},
     "output_type": "execute_result"
    }
   ],
   "source": [
    "def check_pages(pages_, rules_):\n",
    "    list_ = []\n",
    "    for sequence in pages_: # on parcourt chaque séquence de page\n",
    "        ordered = True\n",
    "        # print(\"============NEXT PAGE:===============\")\n",
    "        # print(sequence)\n",
    "        for i in range(len(sequence)): # on parcourt chaque sequence à imprimer\n",
    "            # print(\"*** New sequence ***\")\n",
    "            # print(f\"i = {i} - {sequence[i]} - Règle? {sequence[i] in all_nb_rules(rules_)}\")\n",
    "            if sequence[i] in all_nb_rules(rules_): # il existe une règle pour cette page\n",
    "                r = rules_selected(rules_, sequence[i]) # on récupère les règles concernées\n",
    "                # print(r)\n",
    "                for rule in r: # on les parcourt une à une\n",
    "                    if ordered == True:\n",
    "                        # print(rule)\n",
    "                        if sequence[i] == rule[0]: # la sequence doit précéder\n",
    "                            # print(f\"{sequence[i]} doit précéder {rule[1]}\")\n",
    "                            if rule[1] in sequence: # l'autre nb apparait dans la séquence (else continue to next rule)\n",
    "                                # print(f\"l'autre nb a été trouvé et va être comparé\")\n",
    "                                if rule[1] in sequence[:i]: # l'autre nb apparait pourtant AVANT\n",
    "                                    # print(f\"PAS LE CAS\")\n",
    "                                    ordered = False\n",
    "                                    break # exit FOR loop (rules)\n",
    "                        else: # la sequence doit être après\n",
    "                            # print(f\"{sequence[i]} doit suivre {rule[0]}\")\n",
    "                            if rule[0] in sequence: # l'autre nb apparait dans la séquence (else continue to next rule)\n",
    "                                # print(f\"l'autre nb a été trouvé et va être comparé\")\n",
    "                                if rule[0] in sequence[i:]: # l'autre nb apparait pourtant APRES\n",
    "                                    # print(f\"PAS LE CAS\")\n",
    "                                    ordered = False\n",
    "                                    break # exit FOR loop (rules)\n",
    "                if i == len(sequence)-1 and ordered == True: # c'est la dernière sequence de la séquence et toutes les règles ont été checkées => OK\n",
    "                    # print(f\"fin de sequence + toutes les règles OK\")\n",
    "                    list_.append(sequence)\n",
    "            elif i == len(sequence)-1: # c'est la dernière sequence sans règle de la séquence => OK\n",
    "                # print(f\"fin de sequence + dans aucune règle\")\n",
    "                list_.append(sequence)\n",
    "    return list_\n",
    "\n",
    "pages_filtered_ex = check_pages(pages_split_ex, rules_split_ex) # expected 75,47,61,53,29 and 97,61,53,29,13 and 75,29,13\n",
    "pages_filtered_ex"
   ]
  },
  {
   "cell_type": "code",
   "execution_count": 8,
   "metadata": {},
   "outputs": [
    {
     "data": {
      "text/plain": [
       "80"
      ]
     },
     "execution_count": 8,
     "metadata": {},
     "output_type": "execute_result"
    }
   ],
   "source": [
    "pages_filtered = check_pages(pages_split, rules_split)\n",
    "len(pages_filtered)"
   ]
  },
  {
   "cell_type": "markdown",
   "metadata": {},
   "source": [
    "### 2. We keep just the middle page"
   ]
  },
  {
   "cell_type": "code",
   "execution_count": 9,
   "metadata": {},
   "outputs": [
    {
     "data": {
      "text/plain": [
       "[61, 53, 29]"
      ]
     },
     "execution_count": 9,
     "metadata": {},
     "output_type": "execute_result"
    }
   ],
   "source": [
    "import math\n",
    "\n",
    "def middle_pages(listes):\n",
    "    list_ = []\n",
    "    for liste in listes:\n",
    "        l = len(liste)\n",
    "        list_.append(int(liste[math.ceil(l/2)-1]))\n",
    "    return list_\n",
    "\n",
    "middle_filtered_ex = middle_pages(pages_filtered_ex)\n",
    "middle_filtered_ex # expected [61, 53, 29]"
   ]
  },
  {
   "cell_type": "code",
   "execution_count": 10,
   "metadata": {},
   "outputs": [
    {
     "data": {
      "text/plain": [
       "80"
      ]
     },
     "execution_count": 10,
     "metadata": {},
     "output_type": "execute_result"
    }
   ],
   "source": [
    "middle_filtered = middle_pages(pages_filtered)\n",
    "len(middle_filtered)"
   ]
  },
  {
   "cell_type": "markdown",
   "metadata": {},
   "source": [
    "### 3. We sum the middle pages"
   ]
  },
  {
   "cell_type": "code",
   "execution_count": 11,
   "metadata": {},
   "outputs": [
    {
     "data": {
      "text/plain": [
       "143"
      ]
     },
     "execution_count": 11,
     "metadata": {},
     "output_type": "execute_result"
    }
   ],
   "source": [
    "sum(middle_filtered_ex) # expected 143"
   ]
  },
  {
   "cell_type": "code",
   "execution_count": 12,
   "metadata": {},
   "outputs": [
    {
     "data": {
      "text/plain": [
       "4569"
      ]
     },
     "execution_count": 12,
     "metadata": {},
     "output_type": "execute_result"
    }
   ],
   "source": [
    "sum(middle_filtered)"
   ]
  },
  {
   "cell_type": "markdown",
   "metadata": {},
   "source": [
    "# Part 2 (not completed)"
   ]
  },
  {
   "cell_type": "code",
   "execution_count": 13,
   "metadata": {},
   "outputs": [
    {
     "name": "stdout",
     "output_type": "stream",
     "text": [
      "3 + 3 = 6 : True\n"
     ]
    }
   ],
   "source": [
    "# Let's filter the unordered sequences\n",
    "unordered_ex = [x for x in pages_split_ex if x not in pages_filtered_ex]\n",
    "\n",
    "print(f\"{len(unordered_ex)} + {len(middle_filtered_ex)} = {len(pages_split_ex)} : {len(unordered_ex)+len(middle_filtered_ex) == len(pages_split_ex)}\")\n"
   ]
  },
  {
   "cell_type": "code",
   "execution_count": 14,
   "metadata": {},
   "outputs": [
    {
     "name": "stdout",
     "output_type": "stream",
     "text": [
      "117 + 80 = 197 : True\n"
     ]
    }
   ],
   "source": [
    "unordered = [x for x in pages_split if x not in pages_filtered]\n",
    "\n",
    "print(f\"{len(unordered)} + {len(middle_filtered)} = {len(pages_split)} : {len(unordered)+len(middle_filtered) == len(pages_split)}\")"
   ]
  },
  {
   "cell_type": "code",
   "execution_count": 22,
   "metadata": {},
   "outputs": [
    {
     "data": {
      "text/plain": [
       "[['97', '75', '47', '61', '53'],\n",
       " ['61', '29', '13'],\n",
       " ['97', '75', '47', '29', '13']]"
      ]
     },
     "execution_count": 22,
     "metadata": {},
     "output_type": "execute_result"
    }
   ],
   "source": [
    "# Now let's order them\n",
    "def order_unordered(pages_, rules_):\n",
    "    list_ = []\n",
    "    for sequence in pages_: # on parcourt chaque séquence de page\n",
    "        for i in range(len(sequence)): # on parcourt chaque sequence à imprimer\n",
    "            if sequence[i] in all_nb_rules(rules_): # il existe une règle pour cette page\n",
    "                r = rules_selected(rules_, sequence[i]) # on récupère les règles concernées\n",
    "                \n",
    "                for rule in r: # on les parcourt une à une\n",
    "                        if sequence[i] == rule[0]: # la sequence doit précéder\n",
    "                            # print(f\"{sequence[i]} doit précéder {rule[1]}\")\n",
    "                            if rule[1] in sequence: # l'autre nb apparait dans la séquence (else continue to next rule)\n",
    "                                # print(f\"l'autre nb a été trouvé et va être comparé\")\n",
    "                                if rule[1] in sequence[:i]: # l'autre nb apparait pourtant AVANT\n",
    "                                    # print(f\"PAS LE CAS\")\n",
    "                                    index_ = sequence.index(rule[1])\n",
    "                                    value_ = sequence[i]\n",
    "                                    sequence[i] = sequence[index_] # on intervertit\n",
    "                                    sequence[index_] = value_\n",
    "                        else: # la sequence doit être après\n",
    "                            # print(f\"{sequence[i]} doit suivre {rule[0]}\")\n",
    "                            if rule[0] in sequence: # l'autre nb apparait dans la séquence (else continue to next rule)\n",
    "                                # print(f\"l'autre nb a été trouvé et va être comparé\")\n",
    "                                if rule[0] in sequence[i:]: # l'autre nb apparait pourtant APRES\n",
    "                                    # print(f\"PAS LE CAS\")\n",
    "                                    index_ = sequence.index(rule[0])\n",
    "                                    value_ = sequence[i]\n",
    "                                    sequence[i] = sequence[index_] # on intervertit\n",
    "                                    sequence[index_] = value_\n",
    "                if i == len(sequence)-1: \n",
    "                    # print(f\"fin de sequence + toutes les règles OK\")\n",
    "                    list_.append(sequence)\n",
    "    return list_\n",
    "\n",
    "pages_ordered_ex = order_unordered(unordered_ex, rules_split_ex) # 97,75,47,61,53 and 61,29,13 and 97,75,47,29,13\n",
    "pages_ordered_ex"
   ]
  },
  {
   "cell_type": "code",
   "execution_count": 23,
   "metadata": {},
   "outputs": [
    {
     "data": {
      "text/plain": [
       "117"
      ]
     },
     "execution_count": 23,
     "metadata": {},
     "output_type": "execute_result"
    }
   ],
   "source": [
    "pages_ordered = order_unordered(unordered, rules_split) \n",
    "len(pages_ordered)"
   ]
  },
  {
   "cell_type": "code",
   "execution_count": 25,
   "metadata": {},
   "outputs": [
    {
     "data": {
      "text/plain": [
       "11"
      ]
     },
     "execution_count": 25,
     "metadata": {},
     "output_type": "execute_result"
    }
   ],
   "source": [
    "# Let's check if the sequences are now all ordered\n",
    "pages_filtered_2 = check_pages(pages_ordered, rules_split)\n",
    "len(pages_filtered_2) # expected 117"
   ]
  },
  {
   "cell_type": "code",
   "execution_count": 30,
   "metadata": {},
   "outputs": [
    {
     "name": "stdout",
     "output_type": "stream",
     "text": [
      "84\n",
      "87\n",
      "58\n",
      "69\n",
      "53\n",
      "67\n",
      "52\n",
      "67\n",
      "52\n",
      "67\n",
      "52\n",
      "67\n",
      "52\n",
      "67\n",
      "52\n",
      "67\n",
      "52\n",
      "67\n",
      "52\n",
      "67\n",
      "52\n",
      "67\n",
      "52\n",
      "67\n",
      "52\n",
      "67\n",
      "52\n",
      "67\n",
      "52\n",
      "67\n",
      "52\n",
      "67\n",
      "52\n",
      "67\n",
      "52\n",
      "67\n",
      "52\n",
      "67\n",
      "52\n",
      "67\n",
      "52\n",
      "67\n",
      "52\n",
      "67\n",
      "52\n",
      "67\n",
      "52\n",
      "67\n",
      "52\n",
      "67\n",
      "52\n",
      "67\n",
      "52\n",
      "67\n",
      "52\n",
      "67\n",
      "52\n",
      "67\n",
      "52\n",
      "67\n",
      "52\n",
      "67\n",
      "52\n",
      "67\n",
      "52\n",
      "67\n",
      "52\n",
      "67\n",
      "52\n",
      "67\n",
      "52\n",
      "67\n",
      "52\n",
      "67\n",
      "52\n",
      "67\n"
     ]
    },
    {
     "ename": "KeyboardInterrupt",
     "evalue": "",
     "output_type": "error",
     "traceback": [
      "\u001b[0;31m---------------------------------------------------------------------------\u001b[0m",
      "\u001b[0;31mKeyboardInterrupt\u001b[0m                         Traceback (most recent call last)",
      "Cell \u001b[0;32mIn [30], line 9\u001b[0m\n\u001b[1;32m      7\u001b[0m     \u001b[38;5;28mprint\u001b[39m(\u001b[38;5;28mlen\u001b[39m(unordered_n))\n\u001b[1;32m      8\u001b[0m     pages_ordered_n \u001b[38;5;241m=\u001b[39m order_unordered(unordered_n, rules_split)\n\u001b[0;32m----> 9\u001b[0m     pages_filtered_n \u001b[38;5;241m=\u001b[39m \u001b[43mcheck_pages\u001b[49m\u001b[43m(\u001b[49m\u001b[43mpages_ordered_n\u001b[49m\u001b[43m,\u001b[49m\u001b[43m \u001b[49m\u001b[43mrules_split\u001b[49m\u001b[43m)\u001b[49m\n\u001b[1;32m     10\u001b[0m     n \u001b[38;5;241m+\u001b[39m\u001b[38;5;241m=\u001b[39m \u001b[38;5;241m1\u001b[39m\n\u001b[1;32m     11\u001b[0m n, pages_ordered_n\n",
      "Cell \u001b[0;32mIn [7], line 10\u001b[0m, in \u001b[0;36mcheck_pages\u001b[0;34m(pages_, rules_)\u001b[0m\n\u001b[1;32m      5\u001b[0m \u001b[38;5;66;03m# print(\"============NEXT PAGE:===============\")\u001b[39;00m\n\u001b[1;32m      6\u001b[0m \u001b[38;5;66;03m# print(sequence)\u001b[39;00m\n\u001b[1;32m      7\u001b[0m \u001b[38;5;28;01mfor\u001b[39;00m i \u001b[38;5;129;01min\u001b[39;00m \u001b[38;5;28mrange\u001b[39m(\u001b[38;5;28mlen\u001b[39m(sequence)): \u001b[38;5;66;03m# on parcourt chaque sequence à imprimer\u001b[39;00m\n\u001b[1;32m      8\u001b[0m     \u001b[38;5;66;03m# print(\"*** New sequence ***\")\u001b[39;00m\n\u001b[1;32m      9\u001b[0m     \u001b[38;5;66;03m# print(f\"i = {i} - {sequence[i]} - Règle? {sequence[i] in all_nb_rules(rules_)}\")\u001b[39;00m\n\u001b[0;32m---> 10\u001b[0m     \u001b[38;5;28;01mif\u001b[39;00m sequence[i] \u001b[38;5;129;01min\u001b[39;00m \u001b[43mall_nb_rules\u001b[49m\u001b[43m(\u001b[49m\u001b[43mrules_\u001b[49m\u001b[43m)\u001b[49m: \u001b[38;5;66;03m# il existe une règle pour cette page\u001b[39;00m\n\u001b[1;32m     11\u001b[0m         r \u001b[38;5;241m=\u001b[39m rules_selected(rules_, sequence[i]) \u001b[38;5;66;03m# on récupère les règles concernées\u001b[39;00m\n\u001b[1;32m     12\u001b[0m         \u001b[38;5;66;03m# print(r)\u001b[39;00m\n",
      "Cell \u001b[0;32mIn [5], line 4\u001b[0m, in \u001b[0;36mall_nb_rules\u001b[0;34m(listes)\u001b[0m\n\u001b[1;32m      2\u001b[0m list_ \u001b[38;5;241m=\u001b[39m []\n\u001b[1;32m      3\u001b[0m \u001b[38;5;28;01mfor\u001b[39;00m liste \u001b[38;5;129;01min\u001b[39;00m listes:\n\u001b[0;32m----> 4\u001b[0m     \u001b[43mlist_\u001b[49m\u001b[38;5;241;43m.\u001b[39;49m\u001b[43mextend\u001b[49m\u001b[43m(\u001b[49m\u001b[43m[\u001b[49m\u001b[43mliste\u001b[49m\u001b[43m[\u001b[49m\u001b[38;5;241;43m0\u001b[39;49m\u001b[43m]\u001b[49m\u001b[43m,\u001b[49m\u001b[43m \u001b[49m\u001b[43mliste\u001b[49m\u001b[43m[\u001b[49m\u001b[38;5;241;43m1\u001b[39;49m\u001b[43m]\u001b[49m\u001b[43m]\u001b[49m\u001b[43m)\u001b[49m \u001b[38;5;66;03m# append a list of several elements\u001b[39;00m\n\u001b[1;32m      5\u001b[0m \u001b[38;5;28;01mreturn\u001b[39;00m \u001b[38;5;28mset\u001b[39m(list_)\n",
      "\u001b[0;31mKeyboardInterrupt\u001b[0m: "
     ]
    }
   ],
   "source": [
    "# Then let's clean the remaining unordered \n",
    "''' Infinite loop \n",
    "pages_ordered_n = pages_ordered\n",
    "pages_filtered_n = check_pages(pages_ordered_n, rules_split)\n",
    "n = 2\n",
    "while len(pages_filtered_n) <= len(unordered): # 117\n",
    "    unordered_n = [x for x in pages_ordered if x not in pages_filtered_n]\n",
    "    print(len(unordered_n))\n",
    "    pages_ordered_n = order_unordered(unordered_n, rules_split)\n",
    "    pages_filtered_n = check_pages(pages_ordered_n, rules_split)\n",
    "    n += 1\n",
    "n, pages_ordered_n\n",
    "'''"
   ]
  },
  {
   "cell_type": "markdown",
   "metadata": {},
   "source": [
    "### Identify middle page & sum"
   ]
  },
  {
   "cell_type": "code",
   "execution_count": 17,
   "metadata": {},
   "outputs": [
    {
     "data": {
      "text/plain": [
       "(123, [47, 29, 47])"
      ]
     },
     "execution_count": 17,
     "metadata": {},
     "output_type": "execute_result"
    }
   ],
   "source": [
    "middle_ordered_ex = middle_pages(pages_ordered_ex)\n",
    "sum(middle_ordered_ex), middle_ordered_ex # expected [47, 29, 47] -> 123"
   ]
  },
  {
   "cell_type": "code",
   "execution_count": 18,
   "metadata": {},
   "outputs": [
    {
     "data": {
      "text/plain": [
       "(6836, 117)"
      ]
     },
     "execution_count": 18,
     "metadata": {},
     "output_type": "execute_result"
    }
   ],
   "source": [
    "middle_ordered = middle_pages(pages_ordered)\n",
    "sum(middle_ordered), len(middle_ordered) # ➡️ submit this answer for PART 2"
   ]
  }
 ],
 "metadata": {
  "kernelspec": {
   "display_name": "Artefact",
   "language": "python",
   "name": "python3"
  },
  "language_info": {
   "codemirror_mode": {
    "name": "ipython",
    "version": 3
   },
   "file_extension": ".py",
   "mimetype": "text/x-python",
   "name": "python",
   "nbconvert_exporter": "python",
   "pygments_lexer": "ipython3",
   "version": "3.10.12"
  }
 },
 "nbformat": 4,
 "nbformat_minor": 2
}
