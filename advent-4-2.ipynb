{
 "cells": [
  {
   "cell_type": "code",
   "execution_count": 6,
   "metadata": {},
   "outputs": [],
   "source": [
    "# 0. Start by retrieving input\n",
    "\n",
    "with open('advent-4-0-input.txt') as f:\n",
    "    matrix = f.read().splitlines()\n",
    "\n",
    "x='MAS' # changed to MAS"
   ]
  },
  {
   "cell_type": "code",
   "execution_count": 17,
   "metadata": {},
   "outputs": [],
   "source": [
    "# We retrieve example to check our code below\n",
    "with open('advent-4-0ex.txt') as f:\n",
    "    ex = f.read().splitlines()"
   ]
  },
  {
   "cell_type": "code",
   "execution_count": 19,
   "metadata": {},
   "outputs": [],
   "source": [
    "import numpy as np # mieux pour manipuler des matrices\n",
    "\n",
    "def matrix_to_np(list_):\n",
    "    list_letters = []\n",
    "    for i in range(len(list_)): # nb de listes (lignes)\n",
    "        list_letters.append(list(list_[i])) # on convertit la string de chaque ligne en liste de lettres et on les ajoute les unes aux autres\n",
    "    return np.array(list_letters)\n",
    "\n",
    "np_matrix = matrix_to_np(matrix)\n",
    "np_ex = matrix_to_np(ex)"
   ]
  },
  {
   "cell_type": "code",
   "execution_count": 38,
   "metadata": {},
   "outputs": [
    {
     "data": {
      "text/plain": [
       "3"
      ]
     },
     "execution_count": 38,
     "metadata": {},
     "output_type": "execute_result"
    }
   ],
   "source": [
    "# We define the 2 functions that will search for MAS based on previously defined diag_norm_np and diag2_norm_np\n",
    "def diag_norm_np_mas(np_, x_):\n",
    "    size= len(np_[0])\n",
    "    count = 0\n",
    "    if size < 3:\n",
    "        return \"Matrix too small, size should be => 4.\"\n",
    "    else:\n",
    "        for i in range(0,size-2): # on parcourt chaque ligne jusqu'à size-3 (inclus) sinon pas possible de former 'MAS'\n",
    "            for j in range(0,size-2): # on parcourt chaque lettre\n",
    "                if np_[i][j] != x_[0]: # M\n",
    "                    continue\n",
    "                else:\n",
    "                    if np_[i+1][j+1] == x_[1]: # A\n",
    "                        if np_[i+2][j+2] == x_[2]: # S\n",
    "                            # print(f\"(i,j)=({i},{j} and line is: {np_[i,:]})\")\n",
    "                            # on check l'autre diagonale\n",
    "                            if (np_[i+2][j] == x_[0]) and (np_[i][j+2] == x_[2]): # M and S\n",
    "                                # print(f\"(i,j)=({i},{j} and word = {np_[i+2][j]}{np_[i+1][j+1]}{np_[i][j+2]}\")\n",
    "                                count += 1\n",
    "                            elif (np_[i][j+2] == x_[0]) and (np_[i+2][j] == x_[2]):\n",
    "                                count += 1\n",
    "    return count\n",
    "\n",
    "diag_norm_np_mas(np_ex, x) # expected 3 (4 avec uniquement la première diagonale) "
   ]
  },
  {
   "cell_type": "code",
   "execution_count": 39,
   "metadata": {},
   "outputs": [
    {
     "data": {
      "text/plain": [
       "6"
      ]
     },
     "execution_count": 39,
     "metadata": {},
     "output_type": "execute_result"
    }
   ],
   "source": [
    "def diag_opp_np_mas(np_, x_):\n",
    "    size= len(np_[0])\n",
    "    count = 0\n",
    "    y = x_[::-1]\n",
    "    if size < 3:\n",
    "        return \"Matrix too small, size should be => 4.\"\n",
    "    else:\n",
    "        for i in range(0,size-2): # on parcourt chaque ligne jusqu'à size-3 (inclus) sinon pas possible de former 'MAS'\n",
    "            for j in range(0,size-2): # on parcourt chaque lettre\n",
    "                if np_[i][j] != y[0]: # M\n",
    "                    continue\n",
    "                else:\n",
    "                    if np_[i+1][j+1] == y[1]: # A\n",
    "                        if np_[i+2][j+2] == y[2]: # S\n",
    "                            # print(f\"(i,j)=({i},{j} and line is: {np_[i,:]})\")\n",
    "                            # on check l'autre diagonale\n",
    "                            if (np_[i+2][j] == y[0]) and (np_[i][j+2] == y[2]): # M and S\n",
    "                                # print(f\"(i,j)=({i},{j} and word = {np_[i+2][j]}{np_[i+1][j+1]}{np_[i][j+2]}\")\n",
    "                                count += 1\n",
    "                            elif (np_[i][j+2] == y[0]) and (np_[i+2][j] == y[2]):\n",
    "                                count += 1\n",
    "    return count\n",
    "\n",
    "diag_opp_np_mas(np_ex, x) # expected 3 (4 avec uniquement la première diagonale) "
   ]
  },
  {
   "cell_type": "code",
   "execution_count": 40,
   "metadata": {},
   "outputs": [
    {
     "data": {
      "text/plain": [
       "9"
      ]
     },
     "execution_count": 40,
     "metadata": {},
     "output_type": "execute_result"
    }
   ],
   "source": [
    "def sum_count_mas(np_,x_):\n",
    "    sum = diag_norm_np_mas(np_,x_) + diag_opp_np_mas(np_,x_)\n",
    "    return sum\n",
    "\n",
    "sum_count_mas(np_ex,x) # code OK with the example of size 10"
   ]
  },
  {
   "cell_type": "code",
   "execution_count": 41,
   "metadata": {},
   "outputs": [
    {
     "data": {
      "text/plain": [
       "1960"
      ]
     },
     "execution_count": 41,
     "metadata": {},
     "output_type": "execute_result"
    }
   ],
   "source": [
    "sum_count_mas(np_matrix,x)"
   ]
  }
 ],
 "metadata": {
  "kernelspec": {
   "display_name": "Artefact",
   "language": "python",
   "name": "python3"
  },
  "language_info": {
   "codemirror_mode": {
    "name": "ipython",
    "version": 3
   },
   "file_extension": ".py",
   "mimetype": "text/x-python",
   "name": "python",
   "nbconvert_exporter": "python",
   "pygments_lexer": "ipython3",
   "version": "3.10.12"
  }
 },
 "nbformat": 4,
 "nbformat_minor": 2
}
